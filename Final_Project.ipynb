{
 "cells": [
  {
   "cell_type": "markdown",
   "metadata": {},
   "source": [
    "## Influences of Different Colonial Policies on the Economic Development of the Colonies\n",
    "\n",
    "#### ECON323 Final Project\n",
    "\n",
    "Name: Zoe（ZI Wang）\n"
   ]
  },
  {
   "cell_type": "markdown",
   "metadata": {},
   "source": [
    "### Introduction:\n",
    "\n",
    "As the America is the colony of the United Kingdom, Spain and Portugal, as well as the significant differences in economic level, political system, colonial policies and religious belief between those host countries, this difference resulted in different forms of rule in their respective colonies. For the reason of path dependence, even after the independence of these colonies, this difference still exists.\n",
    "\n",
    "The Economic Freedom Index is to track over two decades of the advancement in economic freedom, opportunity and prosperity in the communities. Generally speaking, the index covers 12 freedoms, ranged from property rights to financial freedom. The dataset covers 186 countries. Its measurement is based on 12 quantitative and qualitative factors, grouped into four broad categories of economic freedom. Those categories are (1) Rule of law, including property rights, government integrity, judicial effectiveness; (2) Government Size, including government spending, tax burden and fiscal health; (3) Regulatory Efficieny, including bussiness freedom, labor freedom and monetary freedom; (4) Open Markets, including trade freedom, investment freedom and financial freedom. \n",
    "\n",
    "This paper uses the world Economic Freedom Index (EFW) to measure the different institutional quality of British and Portuguese colonies. While the GDP per capita for host country, the population density per square kilometers are also be chosen as independent variable and the GDP per capita for colony is selected as the dependent variable. \n",
    "\n",
    "After input the statistics above, will do the correlation analysis. First we can draw the plot between the GDP of the colonies and the economic freedom index. If there is a strong relationship between them, then we are going to find the coefficients for the variables by OLS model. Then we can run a hypothesis test as a finish of the project.\n"
   ]
  },
  {
   "cell_type": "markdown",
   "metadata": {},
   "source": [
    "### Data\n",
    "\n",
    "The dataset is publicly available in The Heritage Foundation, https://www.heritage.org/index. Many researchers uses this dataset for studies. In particular, we download the version packed by a kaggle competition. The dataset can be downloaded directly on https://www.kaggle.com/lewisduncan93/the-economic-freedom-index. "
   ]
  },
  {
   "cell_type": "code",
   "execution_count": 51,
   "metadata": {},
   "outputs": [],
   "source": [
    "import pandas as pd\n",
    "import numpy as np\n",
    "import matplotlib.pyplot as plt\n",
    "# Remark: the new version of plotly has bug in express, so use old version instead\n",
    "# conda install -c plotly plotly=4.5.0\n",
    "import plotly\n",
    "import plotly.express as px\n",
    "import statsmodels.api as sm \n",
    "import pylab as py \n",
    "import seaborn as sns\n",
    "from statsmodels.formula.api import ols"
   ]
  },
  {
   "cell_type": "code",
   "execution_count": 5,
   "metadata": {},
   "outputs": [],
   "source": [
    "# read and clean data\n",
    "mydata = pd.read_csv(\"economic_freedom_index2019_data.csv\", encoding=\"ISO-8859-1\")\n",
    "df = mydata[['Country', '2019 Score', 'Population (Millions)', 'GDP (Billions, PPP)']]\n",
    "df = df.rename(columns = {'Country':'Country', '2019 Score':'EFW', \n",
    "                             'Population (Millions)':'POP', 'GDP (Billions, PPP)':'GDP'})\n",
    "\n",
    "# remove certain rows, which have NA only\n",
    "df = df.drop([78, 88, 98, 99, 153, 161, 183])\n",
    "\n",
    "# fix the GPA column, remove $ from the string, and change it to numeric type only\n",
    "df.POP = df.POP.astype(float)\n",
    "df.GDP = df.GDP.replace('[\\$,]', '', regex=True).astype(float)"
   ]
  },
  {
   "cell_type": "code",
   "execution_count": 6,
   "metadata": {
    "scrolled": true
   },
   "outputs": [
    {
     "data": {
      "text/html": [
       "<div>\n",
       "<style scoped>\n",
       "    .dataframe tbody tr th:only-of-type {\n",
       "        vertical-align: middle;\n",
       "    }\n",
       "\n",
       "    .dataframe tbody tr th {\n",
       "        vertical-align: top;\n",
       "    }\n",
       "\n",
       "    .dataframe thead th {\n",
       "        text-align: right;\n",
       "    }\n",
       "</style>\n",
       "<table border=\"1\" class=\"dataframe\">\n",
       "  <thead>\n",
       "    <tr style=\"text-align: right;\">\n",
       "      <th></th>\n",
       "      <th>Country</th>\n",
       "      <th>EFW</th>\n",
       "      <th>POP</th>\n",
       "      <th>GDP</th>\n",
       "    </tr>\n",
       "  </thead>\n",
       "  <tbody>\n",
       "    <tr>\n",
       "      <th>0</th>\n",
       "      <td>Afghanistan</td>\n",
       "      <td>51.5</td>\n",
       "      <td>35.5</td>\n",
       "      <td>69.6</td>\n",
       "    </tr>\n",
       "    <tr>\n",
       "      <th>1</th>\n",
       "      <td>Albania</td>\n",
       "      <td>66.5</td>\n",
       "      <td>2.9</td>\n",
       "      <td>36.0</td>\n",
       "    </tr>\n",
       "    <tr>\n",
       "      <th>2</th>\n",
       "      <td>Algeria</td>\n",
       "      <td>46.2</td>\n",
       "      <td>41.5</td>\n",
       "      <td>632.9</td>\n",
       "    </tr>\n",
       "    <tr>\n",
       "      <th>3</th>\n",
       "      <td>Angola</td>\n",
       "      <td>50.6</td>\n",
       "      <td>28.2</td>\n",
       "      <td>190.3</td>\n",
       "    </tr>\n",
       "    <tr>\n",
       "      <th>4</th>\n",
       "      <td>Argentina</td>\n",
       "      <td>52.2</td>\n",
       "      <td>44.1</td>\n",
       "      <td>920.2</td>\n",
       "    </tr>\n",
       "  </tbody>\n",
       "</table>\n",
       "</div>"
      ],
      "text/plain": [
       "       Country   EFW   POP    GDP\n",
       "0  Afghanistan  51.5  35.5   69.6\n",
       "1      Albania  66.5   2.9   36.0\n",
       "2      Algeria  46.2  41.5  632.9\n",
       "3       Angola  50.6  28.2  190.3\n",
       "4    Argentina  52.2  44.1  920.2"
      ]
     },
     "execution_count": 6,
     "metadata": {},
     "output_type": "execute_result"
    }
   ],
   "source": [
    "# first 6 observations\n",
    "df.head()"
   ]
  },
  {
   "cell_type": "markdown",
   "metadata": {},
   "source": [
    "### Descriptive Statistics"
   ]
  },
  {
   "cell_type": "code",
   "execution_count": 20,
   "metadata": {},
   "outputs": [
    {
     "data": {
      "text/html": [
       "<div>\n",
       "<style scoped>\n",
       "    .dataframe tbody tr th:only-of-type {\n",
       "        vertical-align: middle;\n",
       "    }\n",
       "\n",
       "    .dataframe tbody tr th {\n",
       "        vertical-align: top;\n",
       "    }\n",
       "\n",
       "    .dataframe thead th {\n",
       "        text-align: right;\n",
       "    }\n",
       "</style>\n",
       "<table border=\"1\" class=\"dataframe\">\n",
       "  <thead>\n",
       "    <tr style=\"text-align: right;\">\n",
       "      <th></th>\n",
       "      <th>EFW</th>\n",
       "      <th>POP</th>\n",
       "      <th>GDP</th>\n",
       "    </tr>\n",
       "  </thead>\n",
       "  <tbody>\n",
       "    <tr>\n",
       "      <th>count</th>\n",
       "      <td>179.000000</td>\n",
       "      <td>179.000000</td>\n",
       "      <td>179.000000</td>\n",
       "    </tr>\n",
       "    <tr>\n",
       "      <th>mean</th>\n",
       "      <td>61.074860</td>\n",
       "      <td>40.758101</td>\n",
       "      <td>705.386592</td>\n",
       "    </tr>\n",
       "    <tr>\n",
       "      <th>std</th>\n",
       "      <td>10.506926</td>\n",
       "      <td>147.531120</td>\n",
       "      <td>2447.289209</td>\n",
       "    </tr>\n",
       "    <tr>\n",
       "      <th>min</th>\n",
       "      <td>25.900000</td>\n",
       "      <td>0.100000</td>\n",
       "      <td>0.200000</td>\n",
       "    </tr>\n",
       "    <tr>\n",
       "      <th>25%</th>\n",
       "      <td>54.000000</td>\n",
       "      <td>2.250000</td>\n",
       "      <td>25.700000</td>\n",
       "    </tr>\n",
       "    <tr>\n",
       "      <th>50%</th>\n",
       "      <td>60.800000</td>\n",
       "      <td>8.700000</td>\n",
       "      <td>83.900000</td>\n",
       "    </tr>\n",
       "    <tr>\n",
       "      <th>75%</th>\n",
       "      <td>67.800000</td>\n",
       "      <td>29.400000</td>\n",
       "      <td>402.550000</td>\n",
       "    </tr>\n",
       "    <tr>\n",
       "      <th>max</th>\n",
       "      <td>90.200000</td>\n",
       "      <td>1390.100000</td>\n",
       "      <td>23159.100000</td>\n",
       "    </tr>\n",
       "  </tbody>\n",
       "</table>\n",
       "</div>"
      ],
      "text/plain": [
       "              EFW          POP           GDP\n",
       "count  179.000000   179.000000    179.000000\n",
       "mean    61.074860    40.758101    705.386592\n",
       "std     10.506926   147.531120   2447.289209\n",
       "min     25.900000     0.100000      0.200000\n",
       "25%     54.000000     2.250000     25.700000\n",
       "50%     60.800000     8.700000     83.900000\n",
       "75%     67.800000    29.400000    402.550000\n",
       "max     90.200000  1390.100000  23159.100000"
      ]
     },
     "execution_count": 20,
     "metadata": {},
     "output_type": "execute_result"
    }
   ],
   "source": [
    "df_num = df.drop(['Country'], axis = 1)\n",
    "df.describe()"
   ]
  },
  {
   "cell_type": "markdown",
   "metadata": {},
   "source": [
    "The descriptive statistics of data results are summarized in the table above. There are 179 observations in the dataset after we remove data with most NA. In this dataset, the mean of economic freedom index is 61.07 with standard deviation 10.51. The range is from 25.9 to 90.2. For population (in millions), the mean is 40.76 and standard deviation is 147.53. The range is from 0.1 to 1390.1. For GDP (in Billions), the mean is 705.39 with standard deviation 2447.29. The range is from 0.2 to 23159.1. The correlation matrix of the variables are given below. "
   ]
  },
  {
   "cell_type": "code",
   "execution_count": 53,
   "metadata": {
    "scrolled": true
   },
   "outputs": [
    {
     "data": {
      "text/html": [
       "<div>\n",
       "<style scoped>\n",
       "    .dataframe tbody tr th:only-of-type {\n",
       "        vertical-align: middle;\n",
       "    }\n",
       "\n",
       "    .dataframe tbody tr th {\n",
       "        vertical-align: top;\n",
       "    }\n",
       "\n",
       "    .dataframe thead th {\n",
       "        text-align: right;\n",
       "    }\n",
       "</style>\n",
       "<table border=\"1\" class=\"dataframe\">\n",
       "  <thead>\n",
       "    <tr style=\"text-align: right;\">\n",
       "      <th></th>\n",
       "      <th>EFW</th>\n",
       "      <th>POP</th>\n",
       "      <th>GDP</th>\n",
       "    </tr>\n",
       "  </thead>\n",
       "  <tbody>\n",
       "    <tr>\n",
       "      <th>EFW</th>\n",
       "      <td>1.000000</td>\n",
       "      <td>-0.040149</td>\n",
       "      <td>0.114300</td>\n",
       "    </tr>\n",
       "    <tr>\n",
       "      <th>POP</th>\n",
       "      <td>-0.040149</td>\n",
       "      <td>1.000000</td>\n",
       "      <td>0.806675</td>\n",
       "    </tr>\n",
       "    <tr>\n",
       "      <th>GDP</th>\n",
       "      <td>0.114300</td>\n",
       "      <td>0.806675</td>\n",
       "      <td>1.000000</td>\n",
       "    </tr>\n",
       "  </tbody>\n",
       "</table>\n",
       "</div>"
      ],
      "text/plain": [
       "          EFW       POP       GDP\n",
       "EFW  1.000000 -0.040149  0.114300\n",
       "POP -0.040149  1.000000  0.806675\n",
       "GDP  0.114300  0.806675  1.000000"
      ]
     },
     "execution_count": 53,
     "metadata": {},
     "output_type": "execute_result"
    }
   ],
   "source": [
    "df.corr()"
   ]
  },
  {
   "cell_type": "markdown",
   "metadata": {},
   "source": [
    "Scatterplot matrix of the data"
   ]
  },
  {
   "cell_type": "code",
   "execution_count": 55,
   "metadata": {},
   "outputs": [
    {
     "data": {
      "text/plain": [
       "<seaborn.axisgrid.PairGrid at 0x1c263d95c0>"
      ]
     },
     "execution_count": 55,
     "metadata": {},
     "output_type": "execute_result"
    },
    {
     "data": {
      "image/png": "[encoded data removed]",
      "text/plain": [
       "<Figure size 540x540 with 12 Axes>"
      ]
     },
     "metadata": {},
     "output_type": "display_data"
    }
   ],
   "source": [
    "sns.pairplot(df_num)"
   ]
  },
  {
   "cell_type": "markdown",
   "metadata": {},
   "source": [
    "Interactive plot to show the relationship between GDP and economic freedom index"
   ]
  },
  {
   "cell_type": "code",
   "execution_count": 17,
   "metadata": {},
   "outputs": [
    {
     "data": {
      "application/vnd.plotly.v1+json": {
       "config": {
        "plotlyServerURL": "https://plot.ly"
       },
       "data": [
        {
         "customdata": [
          [
           "Afghanistan"
          ],
          [
           "Albania"
          ],
          [
           "Algeria"
          ],
          [
           "Angola"
          ],
          [
           "Argentina"
          ],
          [
           "Armenia"
          ],
          [
           "Australia"
          ],
          [
           "Austria"
          ],
          [
           "Azerbaijan"
          ],
          [
           "Bahamas"
          ],
          [
           "Bahrain"
          ],
          [
           "Bangladesh"
          ],
          [
           "Barbados"
          ],
          [
           "Belarus"
          ],
          [
           "Belgium"
          ],
          [
           "Belize"
          ],
          [
           "Benin"
          ],
          [
           "Bhutan"
          ],
          [
           "Bolivia"
          ],
          [
           "Bosnia and Herzegovina"
          ],
          [
           "Botswana"
          ],
          [
           "Brazil"
          ],
          [
           "Brunei Darussalam"
          ],
          [
           "Bulgaria"
          ],
          [
           "Burkina Faso"
          ],
          [
           "Burma"
          ],
          [
           "Burundi"
          ],
          [
           "Cambodia"
          ],
          [
           "Cameroon"
          ],
          [
           "Canada"
          ],
          [
           "Cabo Verde"
          ],
          [
           "Central African Republic"
          ],
          [
           "Chad"
          ],
          [
           "Chile"
          ],
          [
           "China"
          ],
          [
           "Colombia"
          ],
          [
           "Comoros"
          ],
          [
           "Congo, Democratic Republic of the Congo"
          ],
          [
           "Congo, Republic of"
          ],
          [
           "Costa Rica"
          ],
          [
           "Côte d'Ivoire"
          ],
          [
           "Croatia"
          ],
          [
           "Cuba"
          ],
          [
           "Cyprus"
          ],
          [
           "Czech Republic"
          ],
          [
           "Denmark"
          ],
          [
           "Djibouti"
          ],
          [
           "Dominica"
          ],
          [
           "Dominican Republic"
          ],
          [
           "Ecuador"
          ],
          [
           "Egypt"
          ],
          [
           "El Salvador"
          ],
          [
           "Equatorial Guinea"
          ],
          [
           "Eritrea"
          ],
          [
           "Estonia"
          ],
          [
           "Eswatini"
          ],
          [
           "Ethiopia"
          ],
          [
           "Fiji"
          ],
          [
           "Finland"
          ],
          [
           "France"
          ],
          [
           "Gabon"
          ],
          [
           "Gambia"
          ],
          [
           "Georgia"
          ],
          [
           "Germany"
          ],
          [
           "Ghana"
          ],
          [
           "Greece"
          ],
          [
           "Guatemala"
          ],
          [
           "Guinea"
          ],
          [
           "Guinea-Bissau"
          ],
          [
           "Guyana"
          ],
          [
           "Haiti"
          ],
          [
           "Honduras"
          ],
          [
           "Hong Kong SAR"
          ],
          [
           "Hungary"
          ],
          [
           "Iceland"
          ],
          [
           "India"
          ],
          [
           "Indonesia"
          ],
          [
           "Iran"
          ],
          [
           "Ireland"
          ],
          [
           "Israel"
          ],
          [
           "Italy"
          ],
          [
           "Jamaica"
          ],
          [
           "Japan"
          ],
          [
           "Jordan"
          ],
          [
           "Kazakhstan"
          ],
          [
           "Kenya"
          ],
          [
           "Kiribati"
          ],
          [
           "Korea, South"
          ],
          [
           "Kosovo"
          ],
          [
           "Kuwait"
          ],
          [
           "Kyrgyz Republic"
          ],
          [
           "Lao P.D.R."
          ],
          [
           "Latvia"
          ],
          [
           "Lebanon"
          ],
          [
           "Lesotho"
          ],
          [
           "Liberia"
          ],
          [
           "Lithuania"
          ],
          [
           "Luxembourg"
          ],
          [
           "Macau"
          ],
          [
           "Macedonia"
          ],
          [
           "Madagascar"
          ],
          [
           "Malawi"
          ],
          [
           "Malaysia"
          ],
          [
           "Maldives"
          ],
          [
           "Mali"
          ],
          [
           "Malta"
          ],
          [
           "Mauritania"
          ],
          [
           "Mauritius"
          ],
          [
           "Mexico"
          ],
          [
           "Micronesia"
          ],
          [
           "Moldova"
          ],
          [
           "Mongolia"
          ],
          [
           "Montenegro"
          ],
          [
           "Morocco"
          ],
          [
           "Mozambique"
          ],
          [
           "Namibia"
          ],
          [
           "Nepal"
          ],
          [
           "Netherlands"
          ],
          [
           "New Zealand"
          ],
          [
           "Nicaragua"
          ],
          [
           "Niger"
          ],
          [
           "Nigeria"
          ],
          [
           "Norway"
          ],
          [
           "Oman"
          ],
          [
           "Pakistan"
          ],
          [
           "Panama"
          ],
          [
           "Papua New Guinea"
          ],
          [
           "Paraguay"
          ],
          [
           "Peru"
          ],
          [
           "Philippines"
          ],
          [
           "Poland"
          ],
          [
           "Portugal"
          ],
          [
           "Qatar"
          ],
          [
           "Romania"
          ],
          [
           "Russia"
          ],
          [
           "Rwanda"
          ],
          [
           "Saint Lucia"
          ],
          [
           "Saint Vincent and the Grenadines"
          ],
          [
           "Samoa"
          ],
          [
           "São Tomé and Príncipe"
          ],
          [
           "Saudi Arabia"
          ],
          [
           "Senegal"
          ],
          [
           "Serbia"
          ],
          [
           "Seychelles"
          ],
          [
           "Sierra Leone"
          ],
          [
           "Singapore"
          ],
          [
           "Slovak Republic"
          ],
          [
           "Slovenia"
          ],
          [
           "Solomon Islands"
          ],
          [
           "South Africa"
          ],
          [
           "Spain"
          ],
          [
           "Sri Lanka"
          ],
          [
           "Sudan"
          ],
          [
           "Suriname"
          ],
          [
           "Sweden"
          ],
          [
           "Switzerland"
          ],
          [
           "Taiwan "
          ],
          [
           "Tajikistan"
          ],
          [
           "Tanzania"
          ],
          [
           "Thailand"
          ],
          [
           "Timor-Leste"
          ],
          [
           "Togo"
          ],
          [
           "Tonga"
          ],
          [
           "Trinidad and Tobago"
          ],
          [
           "Tunisia"
          ],
          [
           "Turkey"
          ],
          [
           "Turkmenistan"
          ],
          [
           "Uganda"
          ],
          [
           "Ukraine"
          ],
          [
           "United Arab Emirates"
          ],
          [
           "United Kingdom"
          ],
          [
           "United States"
          ],
          [
           "Uruguay"
          ],
          [
           "Uzbekistan"
          ],
          [
           "Vanuatu"
          ],
          [
           "Venezuela"
          ],
          [
           "Vietnam"
          ],
          [
           "Zambia"
          ],
          [
           "Zimbabwe"
          ]
         ],
         "hoverlabel": {
          "namelength": 0
         },
         "hovertemplate": "GDP=%{x}<br>EFW=%{y}<br>POP=%{marker.size}<br>Country=%{customdata[0]}",
         "legendgroup": "",
         "marker": {
          "color": "#636efa",
          "size": [
           35.5,
           2.9,
           41.5,
           28.2,
           44.1,
           3,
           24.8,
           8.8,
           9.8,
           0.4,
           1.5,
           163.2,
           0.3,
           9.5,
           11.4,
           0.4,
           11.1,
           0.8,
           11.1,
           3.5,
           2.2,
           207.7,
           0.4,
           7.1,
           18.9,
           52.6,
           10.9,
           16,
           24.3,
           36.7,
           0.5,
           5,
           12.2,
           18.4,
           1390.1,
           49.3,
           0.8,
           86.7,
           4.3,
           5,
           25,
           4.1,
           11.5,
           0.9,
           10.6,
           5.7,
           1,
           0.1,
           10.2,
           16.8,
           94.8,
           6.4,
           0.8,
           5.9,
           1.3,
           1.1,
           92.7,
           0.9,
           5.5,
           64.8,
           1.9,
           2.1,
           3.7,
           82.7,
           28.3,
           10.8,
           16.9,
           13,
           1.7,
           0.8,
           11,
           8.3,
           7.4,
           9.8,
           0.3,
           1316.9,
           262,
           81.4,
           4.7,
           8.7,
           60.6,
           2.8,
           126.7,
           7.1,
           18.2,
           46.7,
           0.1,
           51.5,
           1.9,
           4.4,
           6.3,
           6.7,
           2,
           4.5,
           1.9,
           4.5,
           2.8,
           0.6,
           0.6,
           2.1,
           25.6,
           19.2,
           32.1,
           0.4,
           18.9,
           0.5,
           3.9,
           1.3,
           123.5,
           0.1,
           3.5,
           3.1,
           0.6,
           34.9,
           29.5,
           2.3,
           29.3,
           17.1,
           4.8,
           6.2,
           18.8,
           188.7,
           5.3,
           4.1,
           197.3,
           4.1,
           8.3,
           7,
           31.8,
           105.3,
           38,
           10.3,
           2.7,
           19.6,
           144,
           11.8,
           0.2,
           0.1,
           0.2,
           0.2,
           32.4,
           15.9,
           7,
           0.1,
           7.4,
           5.6,
           5.4,
           2.1,
           0.6,
           56.5,
           46.3,
           21.4,
           40.8,
           0.6,
           10.1,
           8.4,
           23.6,
           8.8,
           50,
           69.1,
           1.2,
           7.8,
           0.1,
           1.4,
           11.5,
           80.8,
           5.7,
           37.7,
           42.3,
           10.1,
           66.1,
           325.9,
           3.5,
           32.1,
           0.3,
           31.4,
           93.6,
           17.2,
           14.9
          ],
          "sizemode": "area",
          "sizeref": 3.47525,
          "symbol": "circle"
         },
         "mode": "markers",
         "name": "",
         "showlegend": false,
         "type": "scatter",
         "x": [
          69.6,
          36,
          632.9,
          190.3,
          920.2,
          28.3,
          1246.5,
          439.6,
          171.8,
          11.6,
          70.4,
          687.1,
          5.2,
          178.9,
          528.5,
          3.2,
          25.3,
          7,
          83.6,
          44.6,
          38.9,
          3240.3,
          33.5,
          153.1,
          35.8,
          328.7,
          8,
          64.3,
          88.9,
          1769.3,
          3.7,
          3.4,
          28.6,
          451.1,
          23159.1,
          714,
          1.3,
          68.5,
          28.9,
          83.9,
          96.9,
          101.3,
          148,
          31.6,
          375.7,
          286.8,
          3.6,
          0.8,
          172.4,
          192.6,
          1201.2,
          57,
          30.4,
          9.4,
          41.6,
          11.3,
          200.2,
          8.7,
          244,
          2835.8,
          36.7,
          3.6,
          39.7,
          4170.8,
          133.7,
          298.7,
          137.8,
          26.5,
          3.1,
          6.3,
          19.9,
          46.2,
          454.9,
          289,
          17.6,
          9459,
          3242.8,
          1644.7,
          357.2,
          316.5,
          2310.9,
          26.1,
          5428.8,
          89.1,
          477.6,
          163.1,
          0.2,
          2029,
          19.6,
          291.5,
          23,
          49.2,
          53.9,
          87.7,
          7,
          6.1,
          91.2,
          62.7,
          71.8,
          31,
          39.7,
          22.4,
          930.8,
          6.9,
          41,
          19.3,
          17.3,
          27.5,
          2458.4,
          0.3,
          20.1,
          39.7,
          11,
          298.6,
          36.7,
          26.5,
          78.6,
          916.1,
          188.6,
          36.4,
          21.8,
          1118.8,
          380,
          186.6,
          1057,
          103.9,
          30.3,
          68.3,
          424.4,
          875.6,
          1121,
          313.4,
          340.6,
          481.5,
          4007.8,
          24.6,
          2.5,
          1.3,
          1.1,
          0.7,
          1773.6,
          43.2,
          105.5,
          2.7,
          11.5,
          527,
          179.4,
          71.1,
          1.3,
          765.6,
          1773.9,
          274.7,
          187,
          8.5,
          520.9,
          517.2,
          1185.5,
          28.4,
          162.2,
          1233.7,
          6.8,
          12.9,
          0.6,
          43,
          135.4,
          2173.2,
          103.5,
          88.7,
          368.8,
          686.8,
          2914,
          19390.6,
          78.1,
          222.6,
          0.8,
          380.7,
          647.4,
          68.9,
          34
         ],
         "xaxis": "x",
         "y": [
          51.5,
          66.5,
          46.2,
          50.6,
          52.2,
          67.7,
          80.9,
          72,
          65.4,
          62.9,
          66.4,
          55.6,
          64.7,
          57.9,
          67.3,
          55.4,
          55.3,
          62.9,
          42.3,
          61.9,
          69.5,
          51.9,
          65.1,
          69,
          59.4,
          53.6,
          48.9,
          57.8,
          52.4,
          77.7,
          63.1,
          49.1,
          49.9,
          75.4,
          58.4,
          67.3,
          55.4,
          50.3,
          39.7,
          65.3,
          62.4,
          61.4,
          27.8,
          68.1,
          73.7,
          76.7,
          47.1,
          63.6,
          61,
          46.9,
          52.5,
          61.8,
          41,
          38.9,
          76.6,
          54.7,
          53.6,
          62.2,
          74.9,
          63.8,
          56.3,
          52.4,
          75.9,
          73.5,
          57.5,
          57.7,
          62.6,
          55.7,
          54,
          56.8,
          52.7,
          60.2,
          90.2,
          65,
          77.1,
          55.2,
          65.8,
          51.1,
          80.5,
          72.8,
          62.2,
          68.6,
          72.1,
          66.5,
          65.4,
          55.1,
          47.3,
          72.3,
          67,
          60.8,
          62.3,
          57.4,
          70.4,
          51.1,
          53.1,
          49.7,
          74.2,
          75.9,
          71,
          71.1,
          56.6,
          51.4,
          74,
          53.2,
          58.1,
          68.6,
          55.7,
          73,
          64.7,
          51.9,
          59.1,
          55.4,
          60.5,
          62.9,
          48.6,
          58.7,
          53.8,
          76.8,
          84.4,
          57.7,
          51.6,
          57.3,
          73,
          61,
          55,
          67.2,
          58.4,
          61.8,
          67.8,
          63.8,
          67.8,
          65.3,
          72.6,
          68.6,
          58.9,
          71.1,
          68.7,
          65.8,
          62.2,
          54,
          60.7,
          56.3,
          63.9,
          61.4,
          47.5,
          89.4,
          65,
          65.5,
          54.6,
          58.3,
          65.7,
          56.4,
          47.7,
          48.1,
          75.2,
          81.9,
          77.3,
          55.6,
          60.2,
          68.3,
          44.2,
          50.3,
          57.7,
          57,
          55.4,
          64.6,
          48.4,
          59.7,
          52.3,
          77.6,
          78.9,
          76.8,
          68.6,
          53.3,
          56.4,
          25.9,
          55.3,
          53.6,
          40.4
         ],
         "yaxis": "y"
        }
       ],
       "layout": {
        "font": {
         "color": "#7f7f7f",
         "family": "Courier New, monospace",
         "size": 18
        },
        "legend": {
         "itemsizing": "constant",
         "tracegroupgap": 0
        },
        "margin": {
         "t": 60
        },
        "template": {
         "data": {
          "bar": [
           {
            "error_x": {
             "color": "#2a3f5f"
            },
            "error_y": {
             "color": "#2a3f5f"
            },
            "marker": {
             "line": {
              "color": "#E5ECF6",
              "width": 0.5
             }
            },
            "type": "bar"
           }
          ],
          "barpolar": [
           {
            "marker": {
             "line": {
              "color": "#E5ECF6",
              "width": 0.5
             }
            },
            "type": "barpolar"
           }
          ],
          "carpet": [
           {
            "aaxis": {
             "endlinecolor": "#2a3f5f",
             "gridcolor": "white",
             "linecolor": "white",
             "minorgridcolor": "white",
             "startlinecolor": "#2a3f5f"
            },
            "baxis": {
             "endlinecolor": "#2a3f5f",
             "gridcolor": "white",
             "linecolor": "white",
             "minorgridcolor": "white",
             "startlinecolor": "#2a3f5f"
            },
            "type": "carpet"
           }
          ],
          "choropleth": [
           {
            "colorbar": {
             "outlinewidth": 0,
             "ticks": ""
            },
            "type": "choropleth"
           }
          ],
          "contour": [
           {
            "colorbar": {
             "outlinewidth": 0,
             "ticks": ""
            },
            "colorscale": [
             [
              0,
              "#0d0887"
             ],
             [
              0.1111111111111111,
              "#46039f"
             ],
             [
              0.2222222222222222,
              "#7201a8"
             ],
             [
              0.3333333333333333,
              "#9c179e"
             ],
             [
              0.4444444444444444,
              "#bd3786"
             ],
             [
              0.5555555555555556,
              "#d8576b"
             ],
             [
              0.6666666666666666,
              "#ed7953"
             ],
             [
              0.7777777777777778,
              "#fb9f3a"
             ],
             [
              0.8888888888888888,
              "#fdca26"
             ],
             [
              1,
              "#f0f921"
             ]
            ],
            "type": "contour"
           }
          ],
          "contourcarpet": [
           {
            "colorbar": {
             "outlinewidth": 0,
             "ticks": ""
            },
            "type": "contourcarpet"
           }
          ],
          "heatmap": [
           {
            "colorbar": {
             "outlinewidth": 0,
             "ticks": ""
            },
            "colorscale": [
             [
              0,
              "#0d0887"
             ],
             [
              0.1111111111111111,
              "#46039f"
             ],
             [
              0.2222222222222222,
              "#7201a8"
             ],
             [
              0.3333333333333333,
              "#9c179e"
             ],
             [
              0.4444444444444444,
              "#bd3786"
             ],
             [
              0.5555555555555556,
              "#d8576b"
             ],
             [
              0.6666666666666666,
              "#ed7953"
             ],
             [
              0.7777777777777778,
              "#fb9f3a"
             ],
             [
              0.8888888888888888,
              "#fdca26"
             ],
             [
              1,
              "#f0f921"
             ]
            ],
            "type": "heatmap"
           }
          ],
          "heatmapgl": [
           {
            "colorbar": {
             "outlinewidth": 0,
             "ticks": ""
            },
            "colorscale": [
             [
              0,
              "#0d0887"
             ],
             [
              0.1111111111111111,
              "#46039f"
             ],
             [
              0.2222222222222222,
              "#7201a8"
             ],
             [
              0.3333333333333333,
              "#9c179e"
             ],
             [
              0.4444444444444444,
              "#bd3786"
             ],
             [
              0.5555555555555556,
              "#d8576b"
             ],
             [
              0.6666666666666666,
              "#ed7953"
             ],
             [
              0.7777777777777778,
              "#fb9f3a"
             ],
             [
              0.8888888888888888,
              "#fdca26"
             ],
             [
              1,
              "#f0f921"
             ]
            ],
            "type": "heatmapgl"
           }
          ],
          "histogram": [
           {
            "marker": {
             "colorbar": {
              "outlinewidth": 0,
              "ticks": ""
             }
            },
            "type": "histogram"
           }
          ],
          "histogram2d": [
           {
            "colorbar": {
             "outlinewidth": 0,
             "ticks": ""
            },
            "colorscale": [
             [
              0,
              "#0d0887"
             ],
             [
              0.1111111111111111,
              "#46039f"
             ],
             [
              0.2222222222222222,
              "#7201a8"
             ],
             [
              0.3333333333333333,
              "#9c179e"
             ],
             [
              0.4444444444444444,
              "#bd3786"
             ],
             [
              0.5555555555555556,
              "#d8576b"
             ],
             [
              0.6666666666666666,
              "#ed7953"
             ],
             [
              0.7777777777777778,
              "#fb9f3a"
             ],
             [
              0.8888888888888888,
              "#fdca26"
             ],
             [
              1,
              "#f0f921"
             ]
            ],
            "type": "histogram2d"
           }
          ],
          "histogram2dcontour": [
           {
            "colorbar": {
             "outlinewidth": 0,
             "ticks": ""
            },
            "colorscale": [
             [
              0,
              "#0d0887"
             ],
             [
              0.1111111111111111,
              "#46039f"
             ],
             [
              0.2222222222222222,
              "#7201a8"
             ],
             [
              0.3333333333333333,
              "#9c179e"
             ],
             [
              0.4444444444444444,
              "#bd3786"
             ],
             [
              0.5555555555555556,
              "#d8576b"
             ],
             [
              0.6666666666666666,
              "#ed7953"
             ],
             [
              0.7777777777777778,
              "#fb9f3a"
             ],
             [
              0.8888888888888888,
              "#fdca26"
             ],
             [
              1,
              "#f0f921"
             ]
            ],
            "type": "histogram2dcontour"
           }
          ],
          "mesh3d": [
           {
            "colorbar": {
             "outlinewidth": 0,
             "ticks": ""
            },
            "type": "mesh3d"
           }
          ],
          "parcoords": [
           {
            "line": {
             "colorbar": {
              "outlinewidth": 0,
              "ticks": ""
             }
            },
            "type": "parcoords"
           }
          ],
          "pie": [
           {
            "automargin": true,
            "type": "pie"
           }
          ],
          "scatter": [
           {
            "marker": {
             "colorbar": {
              "outlinewidth": 0,
              "ticks": ""
             }
            },
            "type": "scatter"
           }
          ],
          "scatter3d": [
           {
            "line": {
             "colorbar": {
              "outlinewidth": 0,
              "ticks": ""
             }
            },
            "marker": {
             "colorbar": {
              "outlinewidth": 0,
              "ticks": ""
             }
            },
            "type": "scatter3d"
           }
          ],
          "scattercarpet": [
           {
            "marker": {
             "colorbar": {
              "outlinewidth": 0,
              "ticks": ""
             }
            },
            "type": "scattercarpet"
           }
          ],
          "scattergeo": [
           {
            "marker": {
             "colorbar": {
              "outlinewidth": 0,
              "ticks": ""
             }
            },
            "type": "scattergeo"
           }
          ],
          "scattergl": [
           {
            "marker": {
             "colorbar": {
              "outlinewidth": 0,
              "ticks": ""
             }
            },
            "type": "scattergl"
           }
          ],
          "scattermapbox": [
           {
            "marker": {
             "colorbar": {
              "outlinewidth": 0,
              "ticks": ""
             }
            },
            "type": "scattermapbox"
           }
          ],
          "scatterpolar": [
           {
            "marker": {
             "colorbar": {
              "outlinewidth": 0,
              "ticks": ""
             }
            },
            "type": "scatterpolar"
           }
          ],
          "scatterpolargl": [
           {
            "marker": {
             "colorbar": {
              "outlinewidth": 0,
              "ticks": ""
             }
            },
            "type": "scatterpolargl"
           }
          ],
          "scatterternary": [
           {
            "marker": {
             "colorbar": {
              "outlinewidth": 0,
              "ticks": ""
             }
            },
            "type": "scatterternary"
           }
          ],
          "surface": [
           {
            "colorbar": {
             "outlinewidth": 0,
             "ticks": ""
            },
            "colorscale": [
             [
              0,
              "#0d0887"
             ],
             [
              0.1111111111111111,
              "#46039f"
             ],
             [
              0.2222222222222222,
              "#7201a8"
             ],
             [
              0.3333333333333333,
              "#9c179e"
             ],
             [
              0.4444444444444444,
              "#bd3786"
             ],
             [
              0.5555555555555556,
              "#d8576b"
             ],
             [
              0.6666666666666666,
              "#ed7953"
             ],
             [
              0.7777777777777778,
              "#fb9f3a"
             ],
             [
              0.8888888888888888,
              "#fdca26"
             ],
             [
              1,
              "#f0f921"
             ]
            ],
            "type": "surface"
           }
          ],
          "table": [
           {
            "cells": {
             "fill": {
              "color": "#EBF0F8"
             },
             "line": {
              "color": "white"
             }
            },
            "header": {
             "fill": {
              "color": "#C8D4E3"
             },
             "line": {
              "color": "white"
             }
            },
            "type": "table"
           }
          ]
         },
         "layout": {
          "annotationdefaults": {
           "arrowcolor": "#2a3f5f",
           "arrowhead": 0,
           "arrowwidth": 1
          },
          "coloraxis": {
           "colorbar": {
            "outlinewidth": 0,
            "ticks": ""
           }
          },
          "colorscale": {
           "diverging": [
            [
             0,
             "#8e0152"
            ],
            [
             0.1,
             "#c51b7d"
            ],
            [
             0.2,
             "#de77ae"
            ],
            [
             0.3,
             "#f1b6da"
            ],
            [
             0.4,
             "#fde0ef"
            ],
            [
             0.5,
             "#f7f7f7"
            ],
            [
             0.6,
             "#e6f5d0"
            ],
            [
             0.7,
             "#b8e186"
            ],
            [
             0.8,
             "#7fbc41"
            ],
            [
             0.9,
             "#4d9221"
            ],
            [
             1,
             "#276419"
            ]
           ],
           "sequential": [
            [
             0,
             "#0d0887"
            ],
            [
             0.1111111111111111,
             "#46039f"
            ],
            [
             0.2222222222222222,
             "#7201a8"
            ],
            [
             0.3333333333333333,
             "#9c179e"
            ],
            [
             0.4444444444444444,
             "#bd3786"
            ],
            [
             0.5555555555555556,
             "#d8576b"
            ],
            [
             0.6666666666666666,
             "#ed7953"
            ],
            [
             0.7777777777777778,
             "#fb9f3a"
            ],
            [
             0.8888888888888888,
             "#fdca26"
            ],
            [
             1,
             "#f0f921"
            ]
           ],
           "sequentialminus": [
            [
             0,
             "#0d0887"
            ],
            [
             0.1111111111111111,
             "#46039f"
            ],
            [
             0.2222222222222222,
             "#7201a8"
            ],
            [
             0.3333333333333333,
             "#9c179e"
            ],
            [
             0.4444444444444444,
             "#bd3786"
            ],
            [
             0.5555555555555556,
             "#d8576b"
            ],
            [
             0.6666666666666666,
             "#ed7953"
            ],
            [
             0.7777777777777778,
             "#fb9f3a"
            ],
            [
             0.8888888888888888,
             "#fdca26"
            ],
            [
             1,
             "#f0f921"
            ]
           ]
          },
          "colorway": [
           "#636efa",
           "#EF553B",
           "#00cc96",
           "#ab63fa",
           "#FFA15A",
           "#19d3f3",
           "#FF6692",
           "#B6E880",
           "#FF97FF",
           "#FECB52"
          ],
          "font": {
           "color": "#2a3f5f"
          },
          "geo": {
           "bgcolor": "white",
           "lakecolor": "white",
           "landcolor": "#E5ECF6",
           "showlakes": true,
           "showland": true,
           "subunitcolor": "white"
          },
          "hoverlabel": {
           "align": "left"
          },
          "hovermode": "closest",
          "mapbox": {
           "style": "light"
          },
          "paper_bgcolor": "white",
          "plot_bgcolor": "#E5ECF6",
          "polar": {
           "angularaxis": {
            "gridcolor": "white",
            "linecolor": "white",
            "ticks": ""
           },
           "bgcolor": "#E5ECF6",
           "radialaxis": {
            "gridcolor": "white",
            "linecolor": "white",
            "ticks": ""
           }
          },
          "scene": {
           "xaxis": {
            "backgroundcolor": "#E5ECF6",
            "gridcolor": "white",
            "gridwidth": 2,
            "linecolor": "white",
            "showbackground": true,
            "ticks": "",
            "zerolinecolor": "white"
           },
           "yaxis": {
            "backgroundcolor": "#E5ECF6",
            "gridcolor": "white",
            "gridwidth": 2,
            "linecolor": "white",
            "showbackground": true,
            "ticks": "",
            "zerolinecolor": "white"
           },
           "zaxis": {
            "backgroundcolor": "#E5ECF6",
            "gridcolor": "white",
            "gridwidth": 2,
            "linecolor": "white",
            "showbackground": true,
            "ticks": "",
            "zerolinecolor": "white"
           }
          },
          "shapedefaults": {
           "line": {
            "color": "#2a3f5f"
           }
          },
          "ternary": {
           "aaxis": {
            "gridcolor": "white",
            "linecolor": "white",
            "ticks": ""
           },
           "baxis": {
            "gridcolor": "white",
            "linecolor": "white",
            "ticks": ""
           },
           "bgcolor": "#E5ECF6",
           "caxis": {
            "gridcolor": "white",
            "linecolor": "white",
            "ticks": ""
           }
          },
          "title": {
           "x": 0.05
          },
          "xaxis": {
           "automargin": true,
           "gridcolor": "white",
           "linecolor": "white",
           "ticks": "",
           "title": {
            "standoff": 15
           },
           "zerolinecolor": "white",
           "zerolinewidth": 2
          },
          "yaxis": {
           "automargin": true,
           "gridcolor": "white",
           "linecolor": "white",
           "ticks": "",
           "title": {
            "standoff": 15
           },
           "zerolinecolor": "white",
           "zerolinewidth": 2
          }
         }
        },
        "title": {
         "text": "Interactive Scatterplot of Economic Freedom Index vs GDP"
        },
        "xaxis": {
         "anchor": "y",
         "domain": [
          0,
          1
         ],
         "title": {
          "text": "GDP per capita"
         }
        },
        "yaxis": {
         "anchor": "x",
         "domain": [
          0,
          1
         ],
         "title": {
          "text": "Economic Freedom Index "
         }
        }
       }
      },
      "text/html": [
       "<div>\n",
       "        \n",
       "        \n",
       "            <div id=\"ef20d20d-1385-44d4-b7b9-ae0145683240\" class=\"plotly-graph-div\" style=\"height:525px; width:100%;\"></div>\n",
       "            <script type=\"text/javascript\">\n",
       "                require([\"plotly\"], function(Plotly) {\n",
       "                    window.PLOTLYENV=window.PLOTLYENV || {};\n",
       "                    \n",
       "                if (document.getElementById(\"ef20d20d-1385-44d4-b7b9-ae0145683240\")) {\n",
       "                    Plotly.newPlot(\n",
       "                        'ef20d20d-1385-44d4-b7b9-ae0145683240',\n",
       "                        [{\"customdata\": [[\"Afghanistan\"], [\"Albania\"], [\"Algeria\"], [\"Angola\"], [\"Argentina\"], [\"Armenia\"], [\"Australia\"], [\"Austria\"], [\"Azerbaijan\"], [\"Bahamas\"], [\"Bahrain\"], [\"Bangladesh\"], [\"Barbados\"], [\"Belarus\"], [\"Belgium\"], [\"Belize\"], [\"Benin\"], [\"Bhutan\"], [\"Bolivia\"], [\"Bosnia and Herzegovina\"], [\"Botswana\"], [\"Brazil\"], [\"Brunei Darussalam\"], [\"Bulgaria\"], [\"Burkina Faso\"], [\"Burma\"], [\"Burundi\"], [\"Cambodia\"], [\"Cameroon\"], [\"Canada\"], [\"Cabo Verde\"], [\"Central African Republic\"], [\"Chad\"], [\"Chile\"], [\"China\"], [\"Colombia\"], [\"Comoros\"], [\"Congo, Democratic Republic of the Congo\"], [\"Congo, Republic of\"], [\"Costa Rica\"], [\"C\\u00f4te d'Ivoire\"], [\"Croatia\"], [\"Cuba\"], [\"Cyprus\"], [\"Czech Republic\"], [\"Denmark\"], [\"Djibouti\"], [\"Dominica\"], [\"Dominican Republic\"], [\"Ecuador\"], [\"Egypt\"], [\"El Salvador\"], [\"Equatorial Guinea\"], [\"Eritrea\"], [\"Estonia\"], [\"Eswatini\"], [\"Ethiopia\"], [\"Fiji\"], [\"Finland\"], [\"France\"], [\"Gabon\"], [\"Gambia\"], [\"Georgia\"], [\"Germany\"], [\"Ghana\"], [\"Greece\"], [\"Guatemala\"], [\"Guinea\"], [\"Guinea-Bissau\"], [\"Guyana\"], [\"Haiti\"], [\"Honduras\"], [\"Hong Kong SAR\"], [\"Hungary\"], [\"Iceland\"], [\"India\"], [\"Indonesia\"], [\"Iran\"], [\"Ireland\"], [\"Israel\"], [\"Italy\"], [\"Jamaica\"], [\"Japan\"], [\"Jordan\"], [\"Kazakhstan\"], [\"Kenya\"], [\"Kiribati\"], [\"Korea, South\"], [\"Kosovo\"], [\"Kuwait\"], [\"Kyrgyz Republic\"], [\"Lao P.D.R.\"], [\"Latvia\"], [\"Lebanon\"], [\"Lesotho\"], [\"Liberia\"], [\"Lithuania\"], [\"Luxembourg\"], [\"Macau\"], [\"Macedonia\"], [\"Madagascar\"], [\"Malawi\"], [\"Malaysia\"], [\"Maldives\"], [\"Mali\"], [\"Malta\"], [\"Mauritania\"], [\"Mauritius\"], [\"Mexico\"], [\"Micronesia\"], [\"Moldova\"], [\"Mongolia\"], [\"Montenegro\"], [\"Morocco\"], [\"Mozambique\"], [\"Namibia\"], [\"Nepal\"], [\"Netherlands\"], [\"New Zealand\"], [\"Nicaragua\"], [\"Niger\"], [\"Nigeria\"], [\"Norway\"], [\"Oman\"], [\"Pakistan\"], [\"Panama\"], [\"Papua New Guinea\"], [\"Paraguay\"], [\"Peru\"], [\"Philippines\"], [\"Poland\"], [\"Portugal\"], [\"Qatar\"], [\"Romania\"], [\"Russia\"], [\"Rwanda\"], [\"Saint Lucia\"], [\"Saint Vincent and the Grenadines\"], [\"Samoa\"], [\"S\\u00e3o Tom\\u00e9 and Pr\\u00edncipe\"], [\"Saudi Arabia\"], [\"Senegal\"], [\"Serbia\"], [\"Seychelles\"], [\"Sierra Leone\"], [\"Singapore\"], [\"Slovak Republic\"], [\"Slovenia\"], [\"Solomon Islands\"], [\"South Africa\"], [\"Spain\"], [\"Sri Lanka\"], [\"Sudan\"], [\"Suriname\"], [\"Sweden\"], [\"Switzerland\"], [\"Taiwan \"], [\"Tajikistan\"], [\"Tanzania\"], [\"Thailand\"], [\"Timor-Leste\"], [\"Togo\"], [\"Tonga\"], [\"Trinidad and Tobago\"], [\"Tunisia\"], [\"Turkey\"], [\"Turkmenistan\"], [\"Uganda\"], [\"Ukraine\"], [\"United Arab Emirates\"], [\"United Kingdom\"], [\"United States\"], [\"Uruguay\"], [\"Uzbekistan\"], [\"Vanuatu\"], [\"Venezuela\"], [\"Vietnam\"], [\"Zambia\"], [\"Zimbabwe\"]], \"hoverlabel\": {\"namelength\": 0}, \"hovertemplate\": \"GDP=%{x}<br>EFW=%{y}<br>POP=%{marker.size}<br>Country=%{customdata[0]}\", \"legendgroup\": \"\", \"marker\": {\"color\": \"#636efa\", \"size\": [35.5, 2.9, 41.5, 28.2, 44.1, 3.0, 24.8, 8.8, 9.8, 0.4, 1.5, 163.2, 0.3, 9.5, 11.4, 0.4, 11.1, 0.8, 11.1, 3.5, 2.2, 207.7, 0.4, 7.1, 18.9, 52.6, 10.9, 16.0, 24.3, 36.7, 0.5, 5.0, 12.2, 18.4, 1390.1, 49.3, 0.8, 86.7, 4.3, 5.0, 25.0, 4.1, 11.5, 0.9, 10.6, 5.7, 1.0, 0.1, 10.2, 16.8, 94.8, 6.4, 0.8, 5.9, 1.3, 1.1, 92.7, 0.9, 5.5, 64.8, 1.9, 2.1, 3.7, 82.7, 28.3, 10.8, 16.9, 13.0, 1.7, 0.8, 11.0, 8.3, 7.4, 9.8, 0.3, 1316.9, 262.0, 81.4, 4.7, 8.7, 60.6, 2.8, 126.7, 7.1, 18.2, 46.7, 0.1, 51.5, 1.9, 4.4, 6.3, 6.7, 2.0, 4.5, 1.9, 4.5, 2.8, 0.6, 0.6, 2.1, 25.6, 19.2, 32.1, 0.4, 18.9, 0.5, 3.9, 1.3, 123.5, 0.1, 3.5, 3.1, 0.6, 34.9, 29.5, 2.3, 29.3, 17.1, 4.8, 6.2, 18.8, 188.7, 5.3, 4.1, 197.3, 4.1, 8.3, 7.0, 31.8, 105.3, 38.0, 10.3, 2.7, 19.6, 144.0, 11.8, 0.2, 0.1, 0.2, 0.2, 32.4, 15.9, 7.0, 0.1, 7.4, 5.6, 5.4, 2.1, 0.6, 56.5, 46.3, 21.4, 40.8, 0.6, 10.1, 8.4, 23.6, 8.8, 50.0, 69.1, 1.2, 7.8, 0.1, 1.4, 11.5, 80.8, 5.7, 37.7, 42.3, 10.1, 66.1, 325.9, 3.5, 32.1, 0.3, 31.4, 93.6, 17.2, 14.9], \"sizemode\": \"area\", \"sizeref\": 3.47525, \"symbol\": \"circle\"}, \"mode\": \"markers\", \"name\": \"\", \"showlegend\": false, \"type\": \"scatter\", \"x\": [69.6, 36.0, 632.9, 190.3, 920.2, 28.3, 1246.5, 439.6, 171.8, 11.6, 70.4, 687.1, 5.2, 178.9, 528.5, 3.2, 25.3, 7.0, 83.6, 44.6, 38.9, 3240.3, 33.5, 153.1, 35.8, 328.7, 8.0, 64.3, 88.9, 1769.3, 3.7, 3.4, 28.6, 451.1, 23159.1, 714.0, 1.3, 68.5, 28.9, 83.9, 96.9, 101.3, 148.0, 31.6, 375.7, 286.8, 3.6, 0.8, 172.4, 192.6, 1201.2, 57.0, 30.4, 9.4, 41.6, 11.3, 200.2, 8.7, 244.0, 2835.8, 36.7, 3.6, 39.7, 4170.8, 133.7, 298.7, 137.8, 26.5, 3.1, 6.3, 19.9, 46.2, 454.9, 289.0, 17.6, 9459.0, 3242.8, 1644.7, 357.2, 316.5, 2310.9, 26.1, 5428.8, 89.1, 477.6, 163.1, 0.2, 2029.0, 19.6, 291.5, 23.0, 49.2, 53.9, 87.7, 7.0, 6.1, 91.2, 62.7, 71.8, 31.0, 39.7, 22.4, 930.8, 6.9, 41.0, 19.3, 17.3, 27.5, 2458.4, 0.3, 20.1, 39.7, 11.0, 298.6, 36.7, 26.5, 78.6, 916.1, 188.6, 36.4, 21.8, 1118.8, 380.0, 186.6, 1057.0, 103.9, 30.3, 68.3, 424.4, 875.6, 1121.0, 313.4, 340.6, 481.5, 4007.8, 24.6, 2.5, 1.3, 1.1, 0.7, 1773.6, 43.2, 105.5, 2.7, 11.5, 527.0, 179.4, 71.1, 1.3, 765.6, 1773.9, 274.7, 187.0, 8.5, 520.9, 517.2, 1185.5, 28.4, 162.2, 1233.7, 6.8, 12.9, 0.6, 43.0, 135.4, 2173.2, 103.5, 88.7, 368.8, 686.8, 2914.0, 19390.6, 78.1, 222.6, 0.8, 380.7, 647.4, 68.9, 34.0], \"xaxis\": \"x\", \"y\": [51.5, 66.5, 46.2, 50.6, 52.2, 67.7, 80.9, 72.0, 65.4, 62.9, 66.4, 55.6, 64.7, 57.9, 67.3, 55.4, 55.3, 62.9, 42.3, 61.9, 69.5, 51.9, 65.1, 69.0, 59.4, 53.6, 48.9, 57.8, 52.4, 77.7, 63.1, 49.1, 49.9, 75.4, 58.4, 67.3, 55.4, 50.3, 39.7, 65.3, 62.4, 61.4, 27.8, 68.1, 73.7, 76.7, 47.1, 63.6, 61.0, 46.9, 52.5, 61.8, 41.0, 38.9, 76.6, 54.7, 53.6, 62.2, 74.9, 63.8, 56.3, 52.4, 75.9, 73.5, 57.5, 57.7, 62.6, 55.7, 54.0, 56.8, 52.7, 60.2, 90.2, 65.0, 77.1, 55.2, 65.8, 51.1, 80.5, 72.8, 62.2, 68.6, 72.1, 66.5, 65.4, 55.1, 47.3, 72.3, 67.0, 60.8, 62.3, 57.4, 70.4, 51.1, 53.1, 49.7, 74.2, 75.9, 71.0, 71.1, 56.6, 51.4, 74.0, 53.2, 58.1, 68.6, 55.7, 73.0, 64.7, 51.9, 59.1, 55.4, 60.5, 62.9, 48.6, 58.7, 53.8, 76.8, 84.4, 57.7, 51.6, 57.3, 73.0, 61.0, 55.0, 67.2, 58.4, 61.8, 67.8, 63.8, 67.8, 65.3, 72.6, 68.6, 58.9, 71.1, 68.7, 65.8, 62.2, 54.0, 60.7, 56.3, 63.9, 61.4, 47.5, 89.4, 65.0, 65.5, 54.6, 58.3, 65.7, 56.4, 47.7, 48.1, 75.2, 81.9, 77.3, 55.6, 60.2, 68.3, 44.2, 50.3, 57.7, 57.0, 55.4, 64.6, 48.4, 59.7, 52.3, 77.6, 78.9, 76.8, 68.6, 53.3, 56.4, 25.9, 55.3, 53.6, 40.4], \"yaxis\": \"y\"}],\n",
       "                        {\"font\": {\"color\": \"#7f7f7f\", \"family\": \"Courier New, monospace\", \"size\": 18}, \"legend\": {\"itemsizing\": \"constant\", \"tracegroupgap\": 0}, \"margin\": {\"t\": 60}, \"template\": {\"data\": {\"bar\": [{\"error_x\": {\"color\": \"#2a3f5f\"}, \"error_y\": {\"color\": \"#2a3f5f\"}, \"marker\": {\"line\": {\"color\": \"#E5ECF6\", \"width\": 0.5}}, \"type\": \"bar\"}], \"barpolar\": [{\"marker\": {\"line\": {\"color\": \"#E5ECF6\", \"width\": 0.5}}, \"type\": \"barpolar\"}], \"carpet\": [{\"aaxis\": {\"endlinecolor\": \"#2a3f5f\", \"gridcolor\": \"white\", \"linecolor\": \"white\", \"minorgridcolor\": \"white\", \"startlinecolor\": \"#2a3f5f\"}, \"baxis\": {\"endlinecolor\": \"#2a3f5f\", \"gridcolor\": \"white\", \"linecolor\": \"white\", \"minorgridcolor\": \"white\", \"startlinecolor\": \"#2a3f5f\"}, \"type\": \"carpet\"}], \"choropleth\": [{\"colorbar\": {\"outlinewidth\": 0, \"ticks\": \"\"}, \"type\": \"choropleth\"}], \"contour\": [{\"colorbar\": {\"outlinewidth\": 0, \"ticks\": \"\"}, \"colorscale\": [[0.0, \"#0d0887\"], [0.1111111111111111, \"#46039f\"], [0.2222222222222222, \"#7201a8\"], [0.3333333333333333, \"#9c179e\"], [0.4444444444444444, \"#bd3786\"], [0.5555555555555556, \"#d8576b\"], [0.6666666666666666, \"#ed7953\"], [0.7777777777777778, \"#fb9f3a\"], [0.8888888888888888, \"#fdca26\"], [1.0, \"#f0f921\"]], \"type\": \"contour\"}], \"contourcarpet\": [{\"colorbar\": {\"outlinewidth\": 0, \"ticks\": \"\"}, \"type\": \"contourcarpet\"}], \"heatmap\": [{\"colorbar\": {\"outlinewidth\": 0, \"ticks\": \"\"}, \"colorscale\": [[0.0, \"#0d0887\"], [0.1111111111111111, \"#46039f\"], [0.2222222222222222, \"#7201a8\"], [0.3333333333333333, \"#9c179e\"], [0.4444444444444444, \"#bd3786\"], [0.5555555555555556, \"#d8576b\"], [0.6666666666666666, \"#ed7953\"], [0.7777777777777778, \"#fb9f3a\"], [0.8888888888888888, \"#fdca26\"], [1.0, \"#f0f921\"]], \"type\": \"heatmap\"}], \"heatmapgl\": [{\"colorbar\": {\"outlinewidth\": 0, \"ticks\": \"\"}, \"colorscale\": [[0.0, \"#0d0887\"], [0.1111111111111111, \"#46039f\"], [0.2222222222222222, \"#7201a8\"], [0.3333333333333333, \"#9c179e\"], [0.4444444444444444, \"#bd3786\"], [0.5555555555555556, \"#d8576b\"], [0.6666666666666666, \"#ed7953\"], [0.7777777777777778, \"#fb9f3a\"], [0.8888888888888888, \"#fdca26\"], [1.0, \"#f0f921\"]], \"type\": \"heatmapgl\"}], \"histogram\": [{\"marker\": {\"colorbar\": {\"outlinewidth\": 0, \"ticks\": \"\"}}, \"type\": \"histogram\"}], \"histogram2d\": [{\"colorbar\": {\"outlinewidth\": 0, \"ticks\": \"\"}, \"colorscale\": [[0.0, \"#0d0887\"], [0.1111111111111111, \"#46039f\"], [0.2222222222222222, \"#7201a8\"], [0.3333333333333333, \"#9c179e\"], [0.4444444444444444, \"#bd3786\"], [0.5555555555555556, \"#d8576b\"], [0.6666666666666666, \"#ed7953\"], [0.7777777777777778, \"#fb9f3a\"], [0.8888888888888888, \"#fdca26\"], [1.0, \"#f0f921\"]], \"type\": \"histogram2d\"}], \"histogram2dcontour\": [{\"colorbar\": {\"outlinewidth\": 0, \"ticks\": \"\"}, \"colorscale\": [[0.0, \"#0d0887\"], [0.1111111111111111, \"#46039f\"], [0.2222222222222222, \"#7201a8\"], [0.3333333333333333, \"#9c179e\"], [0.4444444444444444, \"#bd3786\"], [0.5555555555555556, \"#d8576b\"], [0.6666666666666666, \"#ed7953\"], [0.7777777777777778, \"#fb9f3a\"], [0.8888888888888888, \"#fdca26\"], [1.0, \"#f0f921\"]], \"type\": \"histogram2dcontour\"}], \"mesh3d\": [{\"colorbar\": {\"outlinewidth\": 0, \"ticks\": \"\"}, \"type\": \"mesh3d\"}], \"parcoords\": [{\"line\": {\"colorbar\": {\"outlinewidth\": 0, \"ticks\": \"\"}}, \"type\": \"parcoords\"}], \"pie\": [{\"automargin\": true, \"type\": \"pie\"}], \"scatter\": [{\"marker\": {\"colorbar\": {\"outlinewidth\": 0, \"ticks\": \"\"}}, \"type\": \"scatter\"}], \"scatter3d\": [{\"line\": {\"colorbar\": {\"outlinewidth\": 0, \"ticks\": \"\"}}, \"marker\": {\"colorbar\": {\"outlinewidth\": 0, \"ticks\": \"\"}}, \"type\": \"scatter3d\"}], \"scattercarpet\": [{\"marker\": {\"colorbar\": {\"outlinewidth\": 0, \"ticks\": \"\"}}, \"type\": \"scattercarpet\"}], \"scattergeo\": [{\"marker\": {\"colorbar\": {\"outlinewidth\": 0, \"ticks\": \"\"}}, \"type\": \"scattergeo\"}], \"scattergl\": [{\"marker\": {\"colorbar\": {\"outlinewidth\": 0, \"ticks\": \"\"}}, \"type\": \"scattergl\"}], \"scattermapbox\": [{\"marker\": {\"colorbar\": {\"outlinewidth\": 0, \"ticks\": \"\"}}, \"type\": \"scattermapbox\"}], \"scatterpolar\": [{\"marker\": {\"colorbar\": {\"outlinewidth\": 0, \"ticks\": \"\"}}, \"type\": \"scatterpolar\"}], \"scatterpolargl\": [{\"marker\": {\"colorbar\": {\"outlinewidth\": 0, \"ticks\": \"\"}}, \"type\": \"scatterpolargl\"}], \"scatterternary\": [{\"marker\": {\"colorbar\": {\"outlinewidth\": 0, \"ticks\": \"\"}}, \"type\": \"scatterternary\"}], \"surface\": [{\"colorbar\": {\"outlinewidth\": 0, \"ticks\": \"\"}, \"colorscale\": [[0.0, \"#0d0887\"], [0.1111111111111111, \"#46039f\"], [0.2222222222222222, \"#7201a8\"], [0.3333333333333333, \"#9c179e\"], [0.4444444444444444, \"#bd3786\"], [0.5555555555555556, \"#d8576b\"], [0.6666666666666666, \"#ed7953\"], [0.7777777777777778, \"#fb9f3a\"], [0.8888888888888888, \"#fdca26\"], [1.0, \"#f0f921\"]], \"type\": \"surface\"}], \"table\": [{\"cells\": {\"fill\": {\"color\": \"#EBF0F8\"}, \"line\": {\"color\": \"white\"}}, \"header\": {\"fill\": {\"color\": \"#C8D4E3\"}, \"line\": {\"color\": \"white\"}}, \"type\": \"table\"}]}, \"layout\": {\"annotationdefaults\": {\"arrowcolor\": \"#2a3f5f\", \"arrowhead\": 0, \"arrowwidth\": 1}, \"coloraxis\": {\"colorbar\": {\"outlinewidth\": 0, \"ticks\": \"\"}}, \"colorscale\": {\"diverging\": [[0, \"#8e0152\"], [0.1, \"#c51b7d\"], [0.2, \"#de77ae\"], [0.3, \"#f1b6da\"], [0.4, \"#fde0ef\"], [0.5, \"#f7f7f7\"], [0.6, \"#e6f5d0\"], [0.7, \"#b8e186\"], [0.8, \"#7fbc41\"], [0.9, \"#4d9221\"], [1, \"#276419\"]], \"sequential\": [[0.0, \"#0d0887\"], [0.1111111111111111, \"#46039f\"], [0.2222222222222222, \"#7201a8\"], [0.3333333333333333, \"#9c179e\"], [0.4444444444444444, \"#bd3786\"], [0.5555555555555556, \"#d8576b\"], [0.6666666666666666, \"#ed7953\"], [0.7777777777777778, \"#fb9f3a\"], [0.8888888888888888, \"#fdca26\"], [1.0, \"#f0f921\"]], \"sequentialminus\": [[0.0, \"#0d0887\"], [0.1111111111111111, \"#46039f\"], [0.2222222222222222, \"#7201a8\"], [0.3333333333333333, \"#9c179e\"], [0.4444444444444444, \"#bd3786\"], [0.5555555555555556, \"#d8576b\"], [0.6666666666666666, \"#ed7953\"], [0.7777777777777778, \"#fb9f3a\"], [0.8888888888888888, \"#fdca26\"], [1.0, \"#f0f921\"]]}, \"colorway\": [\"#636efa\", \"#EF553B\", \"#00cc96\", \"#ab63fa\", \"#FFA15A\", \"#19d3f3\", \"#FF6692\", \"#B6E880\", \"#FF97FF\", \"#FECB52\"], \"font\": {\"color\": \"#2a3f5f\"}, \"geo\": {\"bgcolor\": \"white\", \"lakecolor\": \"white\", \"landcolor\": \"#E5ECF6\", \"showlakes\": true, \"showland\": true, \"subunitcolor\": \"white\"}, \"hoverlabel\": {\"align\": \"left\"}, \"hovermode\": \"closest\", \"mapbox\": {\"style\": \"light\"}, \"paper_bgcolor\": \"white\", \"plot_bgcolor\": \"#E5ECF6\", \"polar\": {\"angularaxis\": {\"gridcolor\": \"white\", \"linecolor\": \"white\", \"ticks\": \"\"}, \"bgcolor\": \"#E5ECF6\", \"radialaxis\": {\"gridcolor\": \"white\", \"linecolor\": \"white\", \"ticks\": \"\"}}, \"scene\": {\"xaxis\": {\"backgroundcolor\": \"#E5ECF6\", \"gridcolor\": \"white\", \"gridwidth\": 2, \"linecolor\": \"white\", \"showbackground\": true, \"ticks\": \"\", \"zerolinecolor\": \"white\"}, \"yaxis\": {\"backgroundcolor\": \"#E5ECF6\", \"gridcolor\": \"white\", \"gridwidth\": 2, \"linecolor\": \"white\", \"showbackground\": true, \"ticks\": \"\", \"zerolinecolor\": \"white\"}, \"zaxis\": {\"backgroundcolor\": \"#E5ECF6\", \"gridcolor\": \"white\", \"gridwidth\": 2, \"linecolor\": \"white\", \"showbackground\": true, \"ticks\": \"\", \"zerolinecolor\": \"white\"}}, \"shapedefaults\": {\"line\": {\"color\": \"#2a3f5f\"}}, \"ternary\": {\"aaxis\": {\"gridcolor\": \"white\", \"linecolor\": \"white\", \"ticks\": \"\"}, \"baxis\": {\"gridcolor\": \"white\", \"linecolor\": \"white\", \"ticks\": \"\"}, \"bgcolor\": \"#E5ECF6\", \"caxis\": {\"gridcolor\": \"white\", \"linecolor\": \"white\", \"ticks\": \"\"}}, \"title\": {\"x\": 0.05}, \"xaxis\": {\"automargin\": true, \"gridcolor\": \"white\", \"linecolor\": \"white\", \"ticks\": \"\", \"title\": {\"standoff\": 15}, \"zerolinecolor\": \"white\", \"zerolinewidth\": 2}, \"yaxis\": {\"automargin\": true, \"gridcolor\": \"white\", \"linecolor\": \"white\", \"ticks\": \"\", \"title\": {\"standoff\": 15}, \"zerolinecolor\": \"white\", \"zerolinewidth\": 2}}}, \"title\": {\"text\": \"Interactive Scatterplot of Economic Freedom Index vs GDP\"}, \"xaxis\": {\"anchor\": \"y\", \"domain\": [0.0, 1.0], \"title\": {\"text\": \"GDP per capita\"}}, \"yaxis\": {\"anchor\": \"x\", \"domain\": [0.0, 1.0], \"title\": {\"text\": \"Economic Freedom Index \"}}},\n",
       "                        {\"responsive\": true}\n",
       "                    ).then(function(){\n",
       "                            \n",
       "var gd = document.getElementById('ef20d20d-1385-44d4-b7b9-ae0145683240');\n",
       "var x = new MutationObserver(function (mutations, observer) {{\n",
       "        var display = window.getComputedStyle(gd).display;\n",
       "        if (!display || display === 'none') {{\n",
       "            console.log([gd, 'removed!']);\n",
       "            Plotly.purge(gd);\n",
       "            observer.disconnect();\n",
       "        }}\n",
       "}});\n",
       "\n",
       "// Listen for the removal of the full notebook cells\n",
       "var notebookContainer = gd.closest('#notebook-container');\n",
       "if (notebookContainer) {{\n",
       "    x.observe(notebookContainer, {childList: true});\n",
       "}}\n",
       "\n",
       "// Listen for the clearing of the current output cell\n",
       "var outputEl = gd.closest('.output');\n",
       "if (outputEl) {{\n",
       "    x.observe(outputEl, {childList: true});\n",
       "}}\n",
       "\n",
       "                        })\n",
       "                };\n",
       "                });\n",
       "            </script>\n",
       "        </div>"
      ]
     },
     "metadata": {},
     "output_type": "display_data"
    }
   ],
   "source": [
    "fig = px.scatter(df, x='GDP', y='EFW', size = 'POP', \n",
    "                hover_data = ['Country'])\n",
    "fig.update_layout(\n",
    "    title=\"Interactive Scatterplot of Economic Freedom Index vs GDP\",\n",
    "    xaxis_title=\"GDP per capita\",\n",
    "    yaxis_title=\"Economic Freedom Index \",\n",
    "    font=dict(\n",
    "        family=\"Courier New, monospace\",\n",
    "        size=18,\n",
    "        color=\"#7f7f7f\"\n",
    "    )\n",
    ")\n",
    "fig.show()"
   ]
  },
  {
   "cell_type": "markdown",
   "metadata": {},
   "source": [
    "The interactive plot shows the relationship between economic freedom index and GDP. The size is scaled with the population. The information about the data point is displayed when the mouse is hover over the point. "
   ]
  },
  {
   "cell_type": "markdown",
   "metadata": {},
   "source": [
    "Now, I want to check the assumption for linear regression model. One of the assumptions for original linear regression is that the response variable is normally distributed. So, the normal probability plot and histogram of the dependent variable GDP are plotted and given below. "
   ]
  },
  {
   "cell_type": "code",
   "execution_count": 40,
   "metadata": {},
   "outputs": [
    {
     "data": {
      "image/png": "[encoded data removed]",
      "text/plain": [
       "<Figure size 432x288 with 1 Axes>"
      ]
     },
     "metadata": {},
     "output_type": "display_data"
    }
   ],
   "source": [
    "fig = sm.qqplot(df.GDP, line = '45', fit = True)\n",
    "h = plt.title('Normal probability plot of GDP')\n",
    "plt.show()"
   ]
  },
  {
   "cell_type": "code",
   "execution_count": 46,
   "metadata": {},
   "outputs": [
    {
     "data": {
      "text/plain": [
       "Text(0.5, 1.0, 'Histogram of the GDP')"
      ]
     },
     "execution_count": 46,
     "metadata": {},
     "output_type": "execute_result"
    },
    {
     "data": {
      "image/png": "[encoded data removed]",
      "text/plain": [
       "<Figure size 432x288 with 1 Axes>"
      ]
     },
     "metadata": {},
     "output_type": "display_data"
    }
   ],
   "source": [
    "sns.set_style('darkgrid')\n",
    "sns.distplot(df.GDP).set_title(\"Histogram of the GDP\")"
   ]
  },
  {
   "cell_type": "markdown",
   "metadata": {},
   "source": [
    "Since GDP is proposed to be used as the dependent variable in regression model, it needs to be normally distributed. According to histogram and normal probability plot, GPD is heavily skewed to right. Therefore, I proposed to log transform GDP before it is served as dependent variable. The normal probability plot and histogram of log(GDP) is given below. "
   ]
  },
  {
   "cell_type": "code",
   "execution_count": 48,
   "metadata": {},
   "outputs": [
    {
     "data": {
      "image/png": "[encoded data removed]",
      "text/plain": [
       "<Figure size 432x288 with 1 Axes>"
      ]
     },
     "metadata": {},
     "output_type": "display_data"
    }
   ],
   "source": [
    "fig = sm.qqplot(np.log(df.GDP), line = '45', fit = True)\n",
    "h = plt.title('Normal probability plot of log(GDP)')\n",
    "plt.show()"
   ]
  },
  {
   "cell_type": "code",
   "execution_count": 49,
   "metadata": {},
   "outputs": [
    {
     "data": {
      "text/plain": [
       "Text(0.5, 1.0, 'Histogram of the log(GDP)')"
      ]
     },
     "execution_count": 49,
     "metadata": {},
     "output_type": "execute_result"
    },
    {
     "data": {
      "image/png": "[encoded data removed]",
      "text/plain": [
       "<Figure size 432x288 with 1 Axes>"
      ]
     },
     "metadata": {},
     "output_type": "display_data"
    }
   ],
   "source": [
    "sns.set_style('darkgrid')\n",
    "sns.distplot(np.log(df.GDP)).set_title(\"Histogram of the log(GDP)\")"
   ]
  },
  {
   "cell_type": "markdown",
   "metadata": {},
   "source": [
    "It is obvious that the log transformation relief the heavily skewed issue with GPD. Therefore, the dependent variable is log-transformed GDP instead. "
   ]
  },
  {
   "cell_type": "markdown",
   "metadata": {},
   "source": [
    "### Analysis"
   ]
  },
  {
   "cell_type": "markdown",
   "metadata": {},
   "source": [
    "We perform oridinary linear regresion (OLS) to study the relationship between GDP and EFW, control for population. The result is given below. "
   ]
  },
  {
   "cell_type": "code",
   "execution_count": 61,
   "metadata": {},
   "outputs": [
    {
     "data": {
      "text/html": [
       "<div>\n",
       "<style scoped>\n",
       "    .dataframe tbody tr th:only-of-type {\n",
       "        vertical-align: middle;\n",
       "    }\n",
       "\n",
       "    .dataframe tbody tr th {\n",
       "        vertical-align: top;\n",
       "    }\n",
       "\n",
       "    .dataframe thead th {\n",
       "        text-align: right;\n",
       "    }\n",
       "</style>\n",
       "<table border=\"1\" class=\"dataframe\">\n",
       "  <thead>\n",
       "    <tr style=\"text-align: right;\">\n",
       "      <th></th>\n",
       "      <th>Country</th>\n",
       "      <th>EFW</th>\n",
       "      <th>POP</th>\n",
       "      <th>GDP</th>\n",
       "      <th>logGDP</th>\n",
       "    </tr>\n",
       "  </thead>\n",
       "  <tbody>\n",
       "    <tr>\n",
       "      <th>0</th>\n",
       "      <td>Afghanistan</td>\n",
       "      <td>51.5</td>\n",
       "      <td>35.5</td>\n",
       "      <td>69.6</td>\n",
       "      <td>4.242765</td>\n",
       "    </tr>\n",
       "    <tr>\n",
       "      <th>1</th>\n",
       "      <td>Albania</td>\n",
       "      <td>66.5</td>\n",
       "      <td>2.9</td>\n",
       "      <td>36.0</td>\n",
       "      <td>3.583519</td>\n",
       "    </tr>\n",
       "    <tr>\n",
       "      <th>2</th>\n",
       "      <td>Algeria</td>\n",
       "      <td>46.2</td>\n",
       "      <td>41.5</td>\n",
       "      <td>632.9</td>\n",
       "      <td>6.450312</td>\n",
       "    </tr>\n",
       "    <tr>\n",
       "      <th>3</th>\n",
       "      <td>Angola</td>\n",
       "      <td>50.6</td>\n",
       "      <td>28.2</td>\n",
       "      <td>190.3</td>\n",
       "      <td>5.248602</td>\n",
       "    </tr>\n",
       "    <tr>\n",
       "      <th>4</th>\n",
       "      <td>Argentina</td>\n",
       "      <td>52.2</td>\n",
       "      <td>44.1</td>\n",
       "      <td>920.2</td>\n",
       "      <td>6.824591</td>\n",
       "    </tr>\n",
       "  </tbody>\n",
       "</table>\n",
       "</div>"
      ],
      "text/plain": [
       "       Country   EFW   POP    GDP    logGDP\n",
       "0  Afghanistan  51.5  35.5   69.6  4.242765\n",
       "1      Albania  66.5   2.9   36.0  3.583519\n",
       "2      Algeria  46.2  41.5  632.9  6.450312\n",
       "3       Angola  50.6  28.2  190.3  5.248602\n",
       "4    Argentina  52.2  44.1  920.2  6.824591"
      ]
     },
     "execution_count": 61,
     "metadata": {},
     "output_type": "execute_result"
    }
   ],
   "source": [
    "# add new column log(GDP)\n",
    "df['logGDP'] = np.log(df.GDP)\n",
    "df.head()"
   ]
  },
  {
   "cell_type": "code",
   "execution_count": 64,
   "metadata": {},
   "outputs": [
    {
     "data": {
      "text/html": [
       "<table class=\"simpletable\">\n",
       "<caption>OLS Regression Results</caption>\n",
       "<tr>\n",
       "  <th>Dep. Variable:</th>         <td>logGDP</td>      <th>  R-squared:         </th> <td>   0.284</td>\n",
       "</tr>\n",
       "<tr>\n",
       "  <th>Model:</th>                   <td>OLS</td>       <th>  Adj. R-squared:    </th> <td>   0.276</td>\n",
       "</tr>\n",
       "<tr>\n",
       "  <th>Method:</th>             <td>Least Squares</td>  <th>  F-statistic:       </th> <td>   34.97</td>\n",
       "</tr>\n",
       "<tr>\n",
       "  <th>Date:</th>             <td>Thu, 23 Apr 2020</td> <th>  Prob (F-statistic):</th> <td>1.63e-13</td>\n",
       "</tr>\n",
       "<tr>\n",
       "  <th>Time:</th>                 <td>11:37:54</td>     <th>  Log-Likelihood:    </th> <td> -366.33</td>\n",
       "</tr>\n",
       "<tr>\n",
       "  <th>No. Observations:</th>      <td>   179</td>      <th>  AIC:               </th> <td>   738.7</td>\n",
       "</tr>\n",
       "<tr>\n",
       "  <th>Df Residuals:</th>          <td>   176</td>      <th>  BIC:               </th> <td>   748.2</td>\n",
       "</tr>\n",
       "<tr>\n",
       "  <th>Df Model:</th>              <td>     2</td>      <th>                     </th>     <td> </td>   \n",
       "</tr>\n",
       "<tr>\n",
       "  <th>Covariance Type:</th>      <td>nonrobust</td>    <th>                     </th>     <td> </td>   \n",
       "</tr>\n",
       "</table>\n",
       "<table class=\"simpletable\">\n",
       "<tr>\n",
       "      <td></td>         <th>coef</th>     <th>std err</th>      <th>t</th>      <th>P>|t|</th>  <th>[0.025</th>    <th>0.975]</th>  \n",
       "</tr>\n",
       "<tr>\n",
       "  <th>Intercept</th> <td>   -0.1186</td> <td>    0.838</td> <td>   -0.142</td> <td> 0.888</td> <td>   -1.773</td> <td>    1.535</td>\n",
       "</tr>\n",
       "<tr>\n",
       "  <th>POP</th>       <td>    0.0065</td> <td>    0.001</td> <td>    6.722</td> <td> 0.000</td> <td>    0.005</td> <td>    0.008</td>\n",
       "</tr>\n",
       "<tr>\n",
       "  <th>EFW</th>       <td>    0.0707</td> <td>    0.013</td> <td>    5.241</td> <td> 0.000</td> <td>    0.044</td> <td>    0.097</td>\n",
       "</tr>\n",
       "</table>\n",
       "<table class=\"simpletable\">\n",
       "<tr>\n",
       "  <th>Omnibus:</th>       <td> 5.341</td> <th>  Durbin-Watson:     </th> <td>   1.920</td>\n",
       "</tr>\n",
       "<tr>\n",
       "  <th>Prob(Omnibus):</th> <td> 0.069</td> <th>  Jarque-Bera (JB):  </th> <td>   5.442</td>\n",
       "</tr>\n",
       "<tr>\n",
       "  <th>Skew:</th>          <td>-0.421</td> <th>  Prob(JB):          </th> <td>  0.0658</td>\n",
       "</tr>\n",
       "<tr>\n",
       "  <th>Kurtosis:</th>      <td> 2.861</td> <th>  Cond. No.          </th> <td>    912.</td>\n",
       "</tr>\n",
       "</table><br/><br/>Warnings:<br/>[1] Standard Errors assume that the covariance matrix of the errors is correctly specified."
      ],
      "text/plain": [
       "<class 'statsmodels.iolib.summary.Summary'>\n",
       "\"\"\"\n",
       "                            OLS Regression Results                            \n",
       "==============================================================================\n",
       "Dep. Variable:                 logGDP   R-squared:                       0.284\n",
       "Model:                            OLS   Adj. R-squared:                  0.276\n",
       "Method:                 Least Squares   F-statistic:                     34.97\n",
       "Date:                Thu, 23 Apr 2020   Prob (F-statistic):           1.63e-13\n",
       "Time:                        11:37:54   Log-Likelihood:                -366.33\n",
       "No. Observations:                 179   AIC:                             738.7\n",
       "Df Residuals:                     176   BIC:                             748.2\n",
       "Df Model:                           2                                         \n",
       "Covariance Type:            nonrobust                                         \n",
       "==============================================================================\n",
       "                 coef    std err          t      P>|t|      [0.025      0.975]\n",
       "------------------------------------------------------------------------------\n",
       "Intercept     -0.1186      0.838     -0.142      0.888      -1.773       1.535\n",
       "POP            0.0065      0.001      6.722      0.000       0.005       0.008\n",
       "EFW            0.0707      0.013      5.241      0.000       0.044       0.097\n",
       "==============================================================================\n",
       "Omnibus:                        5.341   Durbin-Watson:                   1.920\n",
       "Prob(Omnibus):                  0.069   Jarque-Bera (JB):                5.442\n",
       "Skew:                          -0.421   Prob(JB):                       0.0658\n",
       "Kurtosis:                       2.861   Cond. No.                         912.\n",
       "==============================================================================\n",
       "\n",
       "Warnings:\n",
       "[1] Standard Errors assume that the covariance matrix of the errors is correctly specified.\n",
       "\"\"\""
      ]
     },
     "execution_count": 64,
     "metadata": {},
     "output_type": "execute_result"
    }
   ],
   "source": [
    "# fit ordinal linear regression model \n",
    "model = ols(\"logGDP ~ POP + EFW\", data=df)\n",
    "results = model.fit()\n",
    "results.summary()"
   ]
  },
  {
   "cell_type": "markdown",
   "metadata": {},
   "source": [
    "The fitted regression model is \n",
    "\n",
    "$$\\hat{log(GDP)}=-0.1186+0.0065(POP)+0.0707(EFW)$$\n",
    "\n",
    "Interpretation: \n",
    "Contorlling for the economic freedom index, when the population is increased by 1 million, we expect the GDP is increased by 0.65%. Controlling for the population, when the economic freedom index is increased by 1 unit, we expect the GDP is increased by 7.07%. "
   ]
  },
  {
   "cell_type": "markdown",
   "metadata": {},
   "source": [
    "### Hypothesis testing for significance \n",
    "\n",
    "We want to test whether the coefficients in the model is significant or not. In particular, we are interested whether economic freedom index has linear relationship with the log(GDP). If we specify the model as \n",
    "\n",
    "$$ log(GDP_i)=\\beta_0+\\beta_1(POP_i)+\\beta_2(EFW_i)+\\epsilon_i $$\n",
    "\n",
    "We want to test \n",
    "\n",
    "$H_0: \\beta_2=0$\n",
    "\n",
    "$H_1: \\beta_2\\neq 0$\n",
    "\n",
    "The test statistic is 5.241 with p-value close to 0. Since the p-value is less than 0.05, we reject the null hypothesis at 5% level of significance. We conclude that economic freedom index has linear relationship with log(GDP)"
   ]
  },
  {
   "cell_type": "markdown",
   "metadata": {},
   "source": [
    "### Conclusion\n",
    "\n",
    "The ordinary linear regression shows that there is a linear relation between log(GDP) and economic freedom index. The R-square is just 28.4%. it means both population and economic freedom index can only explain 28.4% variation in log(GDP). For the future study, if the goal is to find variables that can explain the variation in GDP or log(GDP), we need to include more predictors since only population and economic freedom index is not enough. "
   ]
  },
  {
   "cell_type": "code",
   "execution_count": null,
   "metadata": {},
   "outputs": [],
   "source": []
  }
 ],
 "metadata": {
  "kernelspec": {
   "display_name": "Python 3",
   "language": "python",
   "name": "python3"
  },
  "language_info": {
   "codemirror_mode": {
    "name": "ipython",
    "version": 3
   },
   "file_extension": ".py",
   "mimetype": "text/x-python",
   "name": "python",
   "nbconvert_exporter": "python",
   "pygments_lexer": "ipython3",
   "version": "3.7.4"
  }
 },
 "nbformat": 4,
 "nbformat_minor": 2
}
